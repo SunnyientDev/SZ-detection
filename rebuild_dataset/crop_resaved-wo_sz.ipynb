{
 "cells": [
  {
   "cell_type": "code",
   "execution_count": 1,
   "metadata": {},
   "outputs": [],
   "source": [
    "from astropy.io import fits\n",
    "from astropy.wcs import WCS\n",
    "from astropy.nddata import Cutout2D\n",
    "from astropy.coordinates import SkyCoord\n",
    "\n",
    "import numpy as np\n",
    "import matplotlib.pyplot as plt\n",
    "%matplotlib inline\n",
    "from tqdm.notebook import tqdm\n",
    "\n",
    "from joblib import Parallel, delayed"
   ]
  },
  {
   "cell_type": "code",
   "execution_count": 2,
   "metadata": {},
   "outputs": [
    {
     "data": {
      "text/plain": [
       "[{'name': 'PSZ2 G000.04+45.13', 'glon': 0.0405432, 'glat': 45.135175},\n",
       " {'name': 'PSZ2 G000.13+78.04', 'glon': 0.1380577, 'glat': 78.0421138},\n",
       " {'name': 'PSZ2 G000.40-41.86', 'glon': 0.4029953, 'glat': -41.8607926}]"
      ]
     },
     "execution_count": 2,
     "metadata": {},
     "output_type": "execute_result"
    }
   ],
   "source": [
    "with open('all.tsv') as f:\n",
    "    object_names = [{\n",
    "        'name': line[:-1].split('\\t')[0],\n",
    "        'glon': np.float64(line[:-1].split('\\t')[1]),\n",
    "        'glat': np.float64(line[:-1].split('\\t')[2])\n",
    "    } for line in f]\n",
    "object_names[:3]"
   ]
  },
  {
   "cell_type": "code",
   "execution_count": 3,
   "metadata": {},
   "outputs": [],
   "source": [
    "size = (192, 192)"
   ]
  },
  {
   "cell_type": "code",
   "execution_count": 4,
   "metadata": {
    "scrolled": true
   },
   "outputs": [
    {
     "name": "stdout",
     "output_type": "stream",
     "text": [
      "100\n",
      "200\n",
      "300\n",
      "400\n",
      "500\n",
      "600\n",
      "700\n",
      "800\n",
      "900\n",
      "1000\n",
      "1100\n",
      "1200\n",
      "1300\n",
      "1400\n",
      "1500\n"
     ]
    }
   ],
   "source": [
    "ROOT = '../data/resaved_HPXcvt'\n",
    "\n",
    "def perform_object(glon, glat):\n",
    "    hdu_100 = fits.open(f'{ROOT}/Planck100.fits')[0]\n",
    "    wcs_100 = WCS(hdu_100.header)\n",
    "    hdu_143 = fits.open(f'{ROOT}/Planck143.fits')[0]\n",
    "    wcs_143 = WCS(hdu_143.header)\n",
    "    hdu_217 = fits.open(f'{ROOT}/Planck217.fits')[0]\n",
    "    wcs_217 = WCS(hdu_217.header)\n",
    "    hdu_353 = fits.open(f'{ROOT}/Planck353.fits')[0]\n",
    "    wcs_353 = WCS(hdu_353.header)\n",
    "    hdu_545 = fits.open(f'{ROOT}/Planck545.fits')[0]\n",
    "    wcs_545 = WCS(hdu_545.header)\n",
    "\n",
    "    datasets = [\n",
    "        (hdu_100, wcs_100),\n",
    "        (hdu_143, wcs_143),\n",
    "        (hdu_217, wcs_217),\n",
    "        (hdu_353, wcs_353),\n",
    "        (hdu_545, wcs_545)\n",
    "    ]\n",
    "\n",
    "    obj = np.zeros((5, size[0], size[1]))\n",
    "    for freq_idx, (hdu, wcs) in enumerate(datasets):\n",
    "        position = SkyCoord(glon, glat, frame='galactic', unit='deg')\n",
    "        cutout = Cutout2D(hdu.data, position, size, wcs=wcs)\n",
    "        data = np.array(cutout.data)\n",
    "        if data.shape != size or np.isnan(data).any():\n",
    "            return None\n",
    "        obj[freq_idx] = data.astype(np.float32)\n",
    "    return obj\n",
    "\n",
    "results = []\n",
    "while len(results) < 1564:# * 5:\n",
    "    glon, glat = np.random.uniform(0, 360), np.random.uniform(-90, 90)\n",
    "    obj = None\n",
    "#     try:\n",
    "    obj = perform_object(glon, glat)\n",
    "#     except Exception as e:\n",
    "#         print(e)\n",
    "    if obj is not None and obj.shape == (5, size[0], size[1]):\n",
    "        results.append((obj, None))\n",
    "        if len(results) % 100 == 0:\n",
    "            print(len(results))"
   ]
  },
  {
   "cell_type": "code",
   "execution_count": 5,
   "metadata": {},
   "outputs": [
    {
     "name": "stdout",
     "output_type": "stream",
     "text": [
      "0\n"
     ]
    }
   ],
   "source": [
    "isnone = 0\n",
    "for i in results:\n",
    "    if i is None:\n",
    "        isnone += 1\n",
    "print(isnone)"
   ]
  },
  {
   "cell_type": "code",
   "execution_count": 6,
   "metadata": {},
   "outputs": [],
   "source": [
    "sz_name = np.array([x[1] for x in results if x is not None])\n",
    "sz_data = np.stack([x[0] for x in results if x is not None])"
   ]
  },
  {
   "cell_type": "code",
   "execution_count": 7,
   "metadata": {},
   "outputs": [],
   "source": [
    "np.savez_compressed('wo_sz.npz', sz_data=sz_data, sz_names=sz_name)"
   ]
  },
  {
   "cell_type": "code",
   "execution_count": 8,
   "metadata": {},
   "outputs": [
    {
     "data": {
      "text/plain": [
       "(1564,)"
      ]
     },
     "execution_count": 8,
     "metadata": {},
     "output_type": "execute_result"
    }
   ],
   "source": [
    "sz_name.shape"
   ]
  },
  {
   "cell_type": "code",
   "execution_count": null,
   "metadata": {},
   "outputs": [],
   "source": []
  }
 ],
 "metadata": {
  "kernelspec": {
   "display_name": "Python 3",
   "language": "python",
   "name": "python3"
  },
  "language_info": {
   "codemirror_mode": {
    "name": "ipython",
    "version": 3
   },
   "file_extension": ".py",
   "mimetype": "text/x-python",
   "name": "python",
   "nbconvert_exporter": "python",
   "pygments_lexer": "ipython3",
   "version": "3.6.9"
  }
 },
 "nbformat": 4,
 "nbformat_minor": 4
}
