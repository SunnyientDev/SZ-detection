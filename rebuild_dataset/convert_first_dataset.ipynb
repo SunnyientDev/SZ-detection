{
 "cells": [
  {
   "cell_type": "code",
   "execution_count": 6,
   "metadata": {},
   "outputs": [],
   "source": [
    "import os\n",
    "from PIL import Image\n",
    "import numpy as np\n",
    "import matplotlib.pyplot as plt\n",
    "%matplotlib inline"
   ]
  },
  {
   "cell_type": "code",
   "execution_count": 24,
   "metadata": {},
   "outputs": [
    {
     "data": {
      "text/plain": [
       "<matplotlib.image.AxesImage at 0x7f805223a9b0>"
      ]
     },
     "execution_count": 24,
     "metadata": {},
     "output_type": "execute_result"
    },
    {
     "data": {
      "image/png": "[encoded data removed]",
      "text/plain": [
       "<Figure size 432x288 with 1 Axes>"
      ]
     },
     "metadata": {
      "needs_background": "light"
     },
     "output_type": "display_data"
    }
   ],
   "source": [
    "#create mask\n",
    "mask2 = np.ones((400, 400), dtype=np.uint8)\n",
    "for i in range(400):\n",
    "    for j in range(400):\n",
    "        if ((i - 200)**2 + (j - 200)**2) < 128**2:\n",
    "            mask2[i, j] = 0\n",
    "mask2 = mask2[72:-72, 72:-72]\n",
    "plt.imshow(mask2)"
   ]
  },
  {
   "cell_type": "code",
   "execution_count": null,
   "metadata": {},
   "outputs": [],
   "source": [
    "root = '../data/first_dataset'"
   ]
  },
  {
   "cell_type": "code",
   "execution_count": 36,
   "metadata": {},
   "outputs": [],
   "source": [
    "objects_sz = []\n",
    "names_sz = []\n",
    "for fname in os.listdir(f'{root}/sz/pl100'):\n",
    "    fname = fname[:-11]\n",
    "    obj = np.zeros((5, 256, 256))\n",
    "    for idx, freq in enumerate([100, 143, 217, 353, 545]):\n",
    "        im = np.asarray(Image.open(f'{root}/sz/pl{freq}/{fname}_{freq}_gr.gif').convert('L')).copy()\n",
    "        im = im[72:-72, 72:-72] / 255\n",
    "        im[mask2 == 1] = -1\n",
    "        obj[idx] = im\n",
    "    names_sz.append(fname)\n",
    "    objects_sz.append(obj)\n",
    "# answers_sz = [1] * len(objects_sz)"
   ]
  },
  {
   "cell_type": "code",
   "execution_count": 37,
   "metadata": {},
   "outputs": [],
   "source": [
    "sz_name = np.array(names_sz)\n",
    "sz_data = np.stack(objects_sz)\n",
    "np.savez_compressed('sz_oleg.npz', sz_data=sz_data, sz_names=sz_name)"
   ]
  },
  {
   "cell_type": "code",
   "execution_count": 42,
   "metadata": {},
   "outputs": [],
   "source": [
    "objects_wo_sz = []\n",
    "for fname in os.listdir(f'{root}/no_sz/s100_rand'):\n",
    "    fname = fname[:-11]\n",
    "    obj = np.zeros((5, 256, 256))\n",
    "    for idx, freq in enumerate([100, 143, 217, 353, 545]):\n",
    "        im = np.asarray(Image.open(f'{root}/no_sz/s{freq}_rand/{fname}_{freq}_gr.gif').convert('L')).copy()\n",
    "        im = im[72:-72, 72:-72] / 255\n",
    "        im[mask2 == 1] = -1\n",
    "        obj[idx] = im\n",
    "    objects_wo_sz.append(obj)\n",
    "# answers_wo_sz = [0] * len(objects_wo_sz)"
   ]
  },
  {
   "cell_type": "code",
   "execution_count": 43,
   "metadata": {},
   "outputs": [],
   "source": [
    "sz_data = np.stack(objects_wo_sz)\n",
    "np.savez_compressed('wo_sz_oleg.npz', sz_data=sz_data)"
   ]
  },
  {
   "cell_type": "code",
   "execution_count": null,
   "metadata": {},
   "outputs": [],
   "source": []
  }
 ],
 "metadata": {
  "kernelspec": {
   "display_name": "Python 3",
   "language": "python",
   "name": "python3"
  },
  "language_info": {
   "codemirror_mode": {
    "name": "ipython",
    "version": 3
   },
   "file_extension": ".py",
   "mimetype": "text/x-python",
   "name": "python",
   "nbconvert_exporter": "python",
   "pygments_lexer": "ipython3",
   "version": "3.6.9"
  }
 },
 "nbformat": 4,
 "nbformat_minor": 2
}
