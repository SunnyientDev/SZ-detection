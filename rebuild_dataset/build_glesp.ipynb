{
 "cells": [
  {
   "cell_type": "code",
   "execution_count": 7,
   "metadata": {},
   "outputs": [],
   "source": [
    "from astropy.io import fits\n",
    "from astropy.wcs import WCS\n",
    "from astropy.nddata import Cutout2D\n",
    "from astropy.coordinates import SkyCoord"
   ]
  },
  {
   "cell_type": "code",
   "execution_count": 68,
   "metadata": {},
   "outputs": [
    {
     "data": {
      "text/plain": [
       "SIMPLE  =                    T /Dummy Created by MWRFITS v1.11                  \n",
       "BITPIX  =                    8 /Dummy primary header created by MWRFITS         \n",
       "NAXIS   =                    0 /No data is associated with this header          \n",
       "EXTEND  =                    T /Extensions may (will!) be present               "
      ]
     },
     "execution_count": 68,
     "metadata": {},
     "output_type": "execute_result"
    }
   ],
   "source": [
    "hdu = fits.open('HFI_SkyMap_100_2048_R3.01_full.fits')[0]\n",
    "hdu.header"
   ]
  },
  {
   "cell_type": "code",
   "execution_count": 69,
   "metadata": {},
   "outputs": [
    {
     "data": {
      "text/plain": [
       "XTENSION= 'BINTABLE'           /Written by IDL:  Mon Sep  3 19:48:38 2018       \n",
       "BITPIX  =                    8 /                                                \n",
       "NAXIS   =                    2 /Binary table                                    \n",
       "NAXIS1  =                   40 /Number of bytes per row                         \n",
       "NAXIS2  =             50331648 /Number of rows                                  \n",
       "PCOUNT  =                    0 /Random parameter count                          \n",
       "GCOUNT  =                    1 /Group count                                     \n",
       "TFIELDS =                   10 /Number of columns                               \n",
       "COMMENT                                                                         \n",
       "COMMENT  *** End of mandatory fields ***                                        \n",
       "COMMENT                                                                         \n",
       "EXTVER  =                    1 /Extension version                               \n",
       "DATE    = '2018-09-03'         /Creation date                                   \n",
       "COMMENT                                                                         \n",
       "COMMENT  *** Column names ***                                                   \n",
       "COMMENT                                                                         \n",
       "TTYPE1  = 'I_STOKES'           /                                                \n",
       "TTYPE2  = 'Q_STOKES'           /                                                \n",
       "TTYPE3  = 'U_STOKES'           /                                                \n",
       "TTYPE4  = 'HITS    '           /                                                \n",
       "TTYPE5  = 'II_COV  '           /                                                \n",
       "TTYPE6  = 'IQ_COV  '           /                                                \n",
       "TTYPE7  = 'IU_COV  '           /                                                \n",
       "TTYPE8  = 'QQ_COV  '           /                                                \n",
       "TTYPE9  = 'QU_COV  '           /                                                \n",
       "TTYPE10 = 'UU_COV  '           /                                                \n",
       "COMMENT                                                                         \n",
       "COMMENT  *** Column formats ***                                                 \n",
       "COMMENT                                                                         \n",
       "TFORM1  = 'E       '           /                                                \n",
       "TFORM2  = 'E       '           /                                                \n",
       "TFORM3  = 'E       '           /                                                \n",
       "TFORM4  = 'J       '           /                                                \n",
       "TFORM5  = 'E       '           /                                                \n",
       "TFORM6  = 'E       '           /                                                \n",
       "TFORM7  = 'E       '           /                                                \n",
       "TFORM8  = 'E       '           /                                                \n",
       "TFORM9  = 'E       '           /                                                \n",
       "TFORM10 = 'E       '           /                                                \n",
       "COMMENT                                                                         \n",
       "COMMENT  *** Column units ***                                                   \n",
       "COMMENT                                                                         \n",
       "TUNIT1  = 'Kcmb    '           /                                                \n",
       "TUNIT2  = 'Kcmb    '           /                                                \n",
       "TUNIT3  = 'Kcmb    '           /                                                \n",
       "TUNIT4  = '        '           /                                                \n",
       "TUNIT5  = 'Kcmb^2  '           /                                                \n",
       "TUNIT6  = 'Kcmb^2  '           /                                                \n",
       "TUNIT7  = 'Kcmb^2  '           /                                                \n",
       "TUNIT8  = 'Kcmb^2  '           /                                                \n",
       "TUNIT9  = 'Kcmb^2  '           /                                                \n",
       "TUNIT10 = 'Kcmb^2  '           /                                                \n",
       "COMMENT                                                                         \n",
       "COMMENT  *** Planck params ***                                                  \n",
       "COMMENT                                                                         \n",
       "COMMENT ------------------------------------------------------------------------\n",
       "COMMENT Further details in the Planck Legacy Archive and Explanatory Supplement \n",
       "COMMENT http://www.cosmos.esa.int/web/planck/pla/                               \n",
       "COMMENT ------------------------------------------------------------------------\n",
       "EXTNAME = 'FREQ-MAP'           / Extension name                                 \n",
       "PIXTYPE = 'HEALPIX '           /                                                \n",
       "POLCCONV= 'COSMO   '           / Polarization convention                        \n",
       "COORDSYS= 'GALACTIC'           / Coordinate system                              \n",
       "ORDERING= 'NESTED  '           / Healpix ordering                               \n",
       "NSIDE   =                 2048 / Healpix Nside                                  \n",
       "FIRSTPIX=                    0 / First pixel # (0 based)                        \n",
       "LASTPIX =             50331647 / Last pixel # (0 based)                         \n",
       "FILENAME= 'HFI_SkyMap_100_2048_R3.01_full.fits' / FITS filename                 \n",
       "BAD_DATA=         -1.63750E+30 / HEALPIX bad pixel value                        \n",
       "FREQ    = '100     '           / reference frequency                            \n",
       "PROCVER = 'RD12_RC4'           / Product version                                \n",
       "UNITFREQ= 'GHz     '           / frequency units                                \n",
       "BNDCTR  = '100     '           / band center, same as FREQ                      \n",
       "RESTFRQ =              100.890 / effective frequency                            \n",
       "BNDWID  = '33      '           / effective bandwidth (approximate)              "
      ]
     },
     "execution_count": 69,
     "metadata": {},
     "output_type": "execute_result"
    }
   ],
   "source": [
    "hdu = fits.open('HFI_SkyMap_100_2048_R3.01_full.fits')[1]\n",
    "hdu.header"
   ]
  },
  {
   "cell_type": "code",
   "execution_count": null,
   "metadata": {},
   "outputs": [],
   "source": [
    "NAXIS1  =                10240 / Axis Length                                    \n",
    "NAXIS2  =                10240 / Axis Length                                    \n",
    "CRPIX1  =               5120.5 / Coordinate reference pixel                     \n",
    "CRPIX2  =               5120.5 / Coordinate reference pixel                     \n",
    "PC1_1   =           0.70710677 / Transformation matrix element                  \n",
    "PC1_2   =           0.70710677 / Transformation matrix element                  \n",
    "PC2_1   =          -0.70710677 / Transformation matrix element                  \n",
    "PC2_2   =           0.70710677 / Transformation matrix element                  \n",
    "CDELT1  =         -0.031074028 / [deg] Coordinate increment                     \n",
    "CDELT2  =          0.031074028 / [deg] Coordinate increment                     \n",
    "CTYPE1  = 'GLON-HPX' / Galactic longitude in an HPX projection                  \n",
    "CTYPE2  = 'GLAT-HPX' / Galactic latitude in an HPX projection                   \n",
    "CRVAL1  =                    0 / [deg] Galactic longitude at the reference point\n",
    "CRVAL2  =                    0 / [deg] Galactic latitude at the reference point \n",
    "PV2_1   =                    4 / HPX H parameter (longitude)                    \n",
    "PV2_2   =                    3 / HPX K parameter (latitude)  "
   ]
  },
  {
   "cell_type": "code",
   "execution_count": 70,
   "metadata": {},
   "outputs": [
    {
     "data": {
      "text/plain": [
       "FITS_rec([(0.0026841 , -4.71997191e-06,  1.2790365e-04, 1166, 1.9899216e-09, 1.0669541e-10, -4.1245893e-10, 4.6532582e-09, -4.0155557e-10, 4.4897366e-09),\n",
       "          (0.00322727, -6.58229183e-05, -7.0659582e-05, 1093, 2.0640243e-09, 1.5796073e-10, -3.9780990e-10, 5.0050670e-09, -4.4825393e-10, 4.5362896e-09),\n",
       "          (0.00262809,  1.01456564e-04,  5.4092274e-05, 1199, 1.8663289e-09, 1.2324754e-11, -4.6165147e-10, 4.5113748e-09, -6.2820371e-10, 4.1737640e-09),\n",
       "          ...,\n",
       "          (0.00361101,  1.41826080e-04, -1.8518700e-05, 1029, 2.3133682e-09, 1.8259823e-10, -4.4640924e-10, 5.4768954e-09, -5.4386251e-10, 5.1740483e-09),\n",
       "          (0.00357285,  1.28430083e-05, -4.9504277e-05, 1164, 1.9146975e-09, 1.4775542e-10, -4.0131040e-10, 5.0237632e-09, -6.2983380e-10, 4.0116852e-09),\n",
       "          (0.00355424,  1.06593405e-04, -5.4283391e-06, 1180, 1.9725594e-09, 1.7678241e-10, -3.9686363e-10, 4.7677786e-09, -4.2749060e-10, 4.3235961e-09)],\n",
       "         dtype=(numpy.record, [('I_STOKES', '>f4'), ('Q_STOKES', '>f4'), ('U_STOKES', '>f4'), ('HITS', '>i4'), ('II_COV', '>f4'), ('IQ_COV', '>f4'), ('IU_COV', '>f4'), ('QQ_COV', '>f4'), ('QU_COV', '>f4'), ('UU_COV', '>f4')]))"
      ]
     },
     "execution_count": 70,
     "metadata": {},
     "output_type": "execute_result"
    }
   ],
   "source": [
    "hdu.data"
   ]
  },
  {
   "cell_type": "code",
   "execution_count": 71,
   "metadata": {},
   "outputs": [],
   "source": [
    "wcs = WCS(hdu.header)"
   ]
  },
  {
   "cell_type": "code",
   "execution_count": 72,
   "metadata": {},
   "outputs": [
    {
     "data": {
      "text/plain": [
       "WCS Keywords\n",
       "\n",
       "Number of WCS axes: 2\n",
       "CTYPE : ''  ''  \n",
       "CRVAL : 0.0  0.0  \n",
       "CRPIX : 0.0  0.0  \n",
       "PC1_1 PC1_2  : 1.0  0.0  \n",
       "PC2_1 PC2_2  : 0.0  1.0  \n",
       "CDELT : 1.0  1.0  \n",
       "NAXIS : 40  50331648"
      ]
     },
     "execution_count": 72,
     "metadata": {},
     "output_type": "execute_result"
    }
   ],
   "source": [
    "wcs"
   ]
  },
  {
   "cell_type": "code",
   "execution_count": 57,
   "metadata": {},
   "outputs": [
    {
     "data": {
      "text/plain": [
       "WCS Keywords\n",
       "\n",
       "Number of WCS axes: 0\n",
       "CTYPE : \n",
       "CRVAL : \n",
       "CRPIX : \n",
       "CDELT : \n",
       "NAXIS : "
      ]
     },
     "execution_count": 57,
     "metadata": {},
     "output_type": "execute_result"
    }
   ],
   "source": [
    "wcs.celestial"
   ]
  },
  {
   "cell_type": "code",
   "execution_count": 36,
   "metadata": {},
   "outputs": [
    {
     "ename": "ValueError",
     "evalue": "WCS should contain celestial component",
     "output_type": "error",
     "traceback": [
      "\u001b[0;31m---------------------------------------------------------------------------\u001b[0m",
      "\u001b[0;31mValueError\u001b[0m                                Traceback (most recent call last)",
      "\u001b[0;32m<ipython-input-36-ab51eb04706f>\u001b[0m in \u001b[0;36m<module>\u001b[0;34m\u001b[0m\n\u001b[1;32m      2\u001b[0m \u001b[0mposition\u001b[0m \u001b[0;34m=\u001b[0m \u001b[0mSkyCoord\u001b[0m\u001b[0;34m(\u001b[0m\u001b[0;36m8.4744770\u001b[0m\u001b[0;34m,\u001b[0m \u001b[0;34m-\u001b[0m\u001b[0;36m56.3420895\u001b[0m\u001b[0;34m,\u001b[0m \u001b[0mframe\u001b[0m\u001b[0;34m=\u001b[0m\u001b[0;34m'galactic'\u001b[0m\u001b[0;34m,\u001b[0m \u001b[0munit\u001b[0m\u001b[0;34m=\u001b[0m\u001b[0;34m'deg'\u001b[0m\u001b[0;34m)\u001b[0m  \u001b[0;31m# GLON,deg;GLAT,deg\u001b[0m\u001b[0;34m\u001b[0m\u001b[0;34m\u001b[0m\u001b[0m\n\u001b[1;32m      3\u001b[0m \u001b[0;31m#position = SkyCoord(334.4436414, -35.7155681, frame='fk5', unit='deg', equinox='J2000.0')  # RA,deg;Dec,deg\u001b[0m\u001b[0;34m\u001b[0m\u001b[0;34m\u001b[0m\u001b[0;34m\u001b[0m\u001b[0m\n\u001b[0;32m----> 4\u001b[0;31m \u001b[0mcutout\u001b[0m \u001b[0;34m=\u001b[0m \u001b[0mCutout2D\u001b[0m\u001b[0;34m(\u001b[0m\u001b[0mhdu\u001b[0m\u001b[0;34m.\u001b[0m\u001b[0mdata\u001b[0m\u001b[0;34m,\u001b[0m \u001b[0mposition\u001b[0m\u001b[0;34m,\u001b[0m \u001b[0msize\u001b[0m\u001b[0;34m,\u001b[0m \u001b[0mwcs\u001b[0m\u001b[0;34m=\u001b[0m\u001b[0mwcs\u001b[0m\u001b[0;34m)\u001b[0m\u001b[0;34m\u001b[0m\u001b[0;34m\u001b[0m\u001b[0m\n\u001b[0m",
      "\u001b[0;32m/usr/local/lib/python3.7/site-packages/astropy/nddata/utils.py\u001b[0m in \u001b[0;36m__init__\u001b[0;34m(self, data, position, size, wcs, mode, fill_value, copy)\u001b[0m\n\u001b[1;32m    649\u001b[0m                 raise ValueError('wcs must be input if position is a '\n\u001b[1;32m    650\u001b[0m                                  'SkyCoord')\n\u001b[0;32m--> 651\u001b[0;31m             \u001b[0mposition\u001b[0m \u001b[0;34m=\u001b[0m \u001b[0mskycoord_to_pixel\u001b[0m\u001b[0;34m(\u001b[0m\u001b[0mposition\u001b[0m\u001b[0;34m,\u001b[0m \u001b[0mwcs\u001b[0m\u001b[0;34m,\u001b[0m \u001b[0mmode\u001b[0m\u001b[0;34m=\u001b[0m\u001b[0;34m'all'\u001b[0m\u001b[0;34m)\u001b[0m  \u001b[0;31m# (x, y)\u001b[0m\u001b[0;34m\u001b[0m\u001b[0;34m\u001b[0m\u001b[0m\n\u001b[0m\u001b[1;32m    652\u001b[0m \u001b[0;34m\u001b[0m\u001b[0m\n\u001b[1;32m    653\u001b[0m         \u001b[0;32mif\u001b[0m \u001b[0mnp\u001b[0m\u001b[0;34m.\u001b[0m\u001b[0misscalar\u001b[0m\u001b[0;34m(\u001b[0m\u001b[0msize\u001b[0m\u001b[0;34m)\u001b[0m\u001b[0;34m:\u001b[0m\u001b[0;34m\u001b[0m\u001b[0;34m\u001b[0m\u001b[0m\n",
      "\u001b[0;32m/usr/local/lib/python3.7/site-packages/astropy/wcs/utils.py\u001b[0m in \u001b[0;36mskycoord_to_pixel\u001b[0;34m(coords, wcs, origin, mode)\u001b[0m\n\u001b[1;32m    532\u001b[0m \u001b[0;34m\u001b[0m\u001b[0m\n\u001b[1;32m    533\u001b[0m     \u001b[0;32mif\u001b[0m \u001b[0mwcs\u001b[0m\u001b[0;34m.\u001b[0m\u001b[0mnaxis\u001b[0m \u001b[0;34m!=\u001b[0m \u001b[0;36m2\u001b[0m\u001b[0;34m:\u001b[0m\u001b[0;34m\u001b[0m\u001b[0;34m\u001b[0m\u001b[0m\n\u001b[0;32m--> 534\u001b[0;31m         \u001b[0;32mraise\u001b[0m \u001b[0mValueError\u001b[0m\u001b[0;34m(\u001b[0m\u001b[0;34m\"WCS should contain celestial component\"\u001b[0m\u001b[0;34m)\u001b[0m\u001b[0;34m\u001b[0m\u001b[0;34m\u001b[0m\u001b[0m\n\u001b[0m\u001b[1;32m    535\u001b[0m \u001b[0;34m\u001b[0m\u001b[0m\n\u001b[1;32m    536\u001b[0m     \u001b[0;31m# Check which frame the WCS uses\u001b[0m\u001b[0;34m\u001b[0m\u001b[0;34m\u001b[0m\u001b[0;34m\u001b[0m\u001b[0m\n",
      "\u001b[0;31mValueError\u001b[0m: WCS should contain celestial component"
     ]
    }
   ],
   "source": [
    "size = (400, 400)\n",
    "position = SkyCoord(8.4744770, -56.3420895, frame='galactic', unit='deg')  # GLON,deg;GLAT,deg \n",
    "#position = SkyCoord(334.4436414, -35.7155681, frame='fk5', unit='deg', equinox='J2000.0')  # RA,deg;Dec,deg \n",
    "cutout = Cutout2D(hdu.data, position, size, wcs=wcs)"
   ]
  },
  {
   "cell_type": "code",
   "execution_count": null,
   "metadata": {},
   "outputs": [],
   "source": [
    "pf[0].data = cutout.data\n",
    "pf[0].header['CRPIX1'] = cutout.wcs.wcs.crpix[0]\n",
    "pf[0].header['CRPIX2'] = cutout.wcs.wcs.crpix[1]\n",
    "pf.writeto('PSZ2_G008.47-56.34_545_GHz.fits')\n",
    "pf.close()"
   ]
  },
  {
   "cell_type": "code",
   "execution_count": 64,
   "metadata": {},
   "outputs": [
    {
     "data": {
      "text/plain": [
       "<SkyCoord (ICRS): (ra, dec) in deg\n",
       "    (308.69875, -35.8275)>"
      ]
     },
     "execution_count": 64,
     "metadata": {},
     "output_type": "execute_result"
    }
   ],
   "source": [
    "SkyCoord.from_name(\"PSZ2 G006.68-35.55\")"
   ]
  },
  {
   "cell_type": "code",
   "execution_count": 62,
   "metadata": {},
   "outputs": [
    {
     "ename": "ValueError",
     "evalue": "WCS should contain celestial component",
     "output_type": "error",
     "traceback": [
      "\u001b[0;31m---------------------------------------------------------------------------\u001b[0m",
      "\u001b[0;31mValueError\u001b[0m                                Traceback (most recent call last)",
      "\u001b[0;32m<ipython-input-62-fb9a0ba9cf4b>\u001b[0m in \u001b[0;36m<module>\u001b[0;34m\u001b[0m\n\u001b[0;32m----> 1\u001b[0;31m \u001b[0mcutout\u001b[0m \u001b[0;34m=\u001b[0m \u001b[0mCutout2D\u001b[0m\u001b[0;34m(\u001b[0m\u001b[0mhdu\u001b[0m\u001b[0;34m.\u001b[0m\u001b[0mdata\u001b[0m\u001b[0;34m,\u001b[0m \u001b[0mm51_pos\u001b[0m\u001b[0;34m,\u001b[0m \u001b[0msize\u001b[0m\u001b[0;34m,\u001b[0m \u001b[0mwcs\u001b[0m\u001b[0;34m=\u001b[0m\u001b[0mwcs\u001b[0m\u001b[0;34m)\u001b[0m\u001b[0;34m\u001b[0m\u001b[0;34m\u001b[0m\u001b[0m\n\u001b[0m",
      "\u001b[0;32m/usr/local/lib/python3.7/site-packages/astropy/nddata/utils.py\u001b[0m in \u001b[0;36m__init__\u001b[0;34m(self, data, position, size, wcs, mode, fill_value, copy)\u001b[0m\n\u001b[1;32m    649\u001b[0m                 raise ValueError('wcs must be input if position is a '\n\u001b[1;32m    650\u001b[0m                                  'SkyCoord')\n\u001b[0;32m--> 651\u001b[0;31m             \u001b[0mposition\u001b[0m \u001b[0;34m=\u001b[0m \u001b[0mskycoord_to_pixel\u001b[0m\u001b[0;34m(\u001b[0m\u001b[0mposition\u001b[0m\u001b[0;34m,\u001b[0m \u001b[0mwcs\u001b[0m\u001b[0;34m,\u001b[0m \u001b[0mmode\u001b[0m\u001b[0;34m=\u001b[0m\u001b[0;34m'all'\u001b[0m\u001b[0;34m)\u001b[0m  \u001b[0;31m# (x, y)\u001b[0m\u001b[0;34m\u001b[0m\u001b[0;34m\u001b[0m\u001b[0m\n\u001b[0m\u001b[1;32m    652\u001b[0m \u001b[0;34m\u001b[0m\u001b[0m\n\u001b[1;32m    653\u001b[0m         \u001b[0;32mif\u001b[0m \u001b[0mnp\u001b[0m\u001b[0;34m.\u001b[0m\u001b[0misscalar\u001b[0m\u001b[0;34m(\u001b[0m\u001b[0msize\u001b[0m\u001b[0;34m)\u001b[0m\u001b[0;34m:\u001b[0m\u001b[0;34m\u001b[0m\u001b[0;34m\u001b[0m\u001b[0m\n",
      "\u001b[0;32m/usr/local/lib/python3.7/site-packages/astropy/wcs/utils.py\u001b[0m in \u001b[0;36mskycoord_to_pixel\u001b[0;34m(coords, wcs, origin, mode)\u001b[0m\n\u001b[1;32m    532\u001b[0m \u001b[0;34m\u001b[0m\u001b[0m\n\u001b[1;32m    533\u001b[0m     \u001b[0;32mif\u001b[0m \u001b[0mwcs\u001b[0m\u001b[0;34m.\u001b[0m\u001b[0mnaxis\u001b[0m \u001b[0;34m!=\u001b[0m \u001b[0;36m2\u001b[0m\u001b[0;34m:\u001b[0m\u001b[0;34m\u001b[0m\u001b[0;34m\u001b[0m\u001b[0m\n\u001b[0;32m--> 534\u001b[0;31m         \u001b[0;32mraise\u001b[0m \u001b[0mValueError\u001b[0m\u001b[0;34m(\u001b[0m\u001b[0;34m\"WCS should contain celestial component\"\u001b[0m\u001b[0;34m)\u001b[0m\u001b[0;34m\u001b[0m\u001b[0;34m\u001b[0m\u001b[0m\n\u001b[0m\u001b[1;32m    535\u001b[0m \u001b[0;34m\u001b[0m\u001b[0m\n\u001b[1;32m    536\u001b[0m     \u001b[0;31m# Check which frame the WCS uses\u001b[0m\u001b[0;34m\u001b[0m\u001b[0;34m\u001b[0m\u001b[0;34m\u001b[0m\u001b[0m\n",
      "\u001b[0;31mValueError\u001b[0m: WCS should contain celestial component"
     ]
    }
   ],
   "source": [
    "cutout = Cutout2D(hdu.data, m51_pos, size, wcs=wcs)"
   ]
  },
  {
   "cell_type": "code",
   "execution_count": null,
   "metadata": {},
   "outputs": [],
   "source": []
  }
 ],
 "metadata": {
  "kernelspec": {
   "display_name": "Python 3",
   "language": "python",
   "name": "python3"
  },
  "language_info": {
   "codemirror_mode": {
    "name": "ipython",
    "version": 3
   },
   "file_extension": ".py",
   "mimetype": "text/x-python",
   "name": "python",
   "nbconvert_exporter": "python",
   "pygments_lexer": "ipython3",
   "version": "3.7.7"
  }
 },
 "nbformat": 4,
 "nbformat_minor": 4
}
