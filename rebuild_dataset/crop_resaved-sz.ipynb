{
 "cells": [
  {
   "cell_type": "code",
   "execution_count": 1,
   "metadata": {},
   "outputs": [],
   "source": [
    "from astropy.io import fits\n",
    "from astropy.wcs import WCS\n",
    "from astropy.nddata import Cutout2D\n",
    "from astropy.coordinates import SkyCoord\n",
    "\n",
    "import numpy as np\n",
    "import matplotlib.pyplot as plt\n",
    "%matplotlib inline\n",
    "from tqdm.notebook import tqdm\n",
    "\n",
    "from joblib import Parallel, delayed"
   ]
  },
  {
   "cell_type": "code",
   "execution_count": 2,
   "metadata": {},
   "outputs": [
    {
     "data": {
      "text/plain": [
       "[{'name': 'PSZ2 G000.04+45.13', 'glon': 0.0405432, 'glat': 45.135175},\n",
       " {'name': 'PSZ2 G000.13+78.04', 'glon': 0.1380577, 'glat': 78.0421138},\n",
       " {'name': 'PSZ2 G000.40-41.86', 'glon': 0.4029953, 'glat': -41.8607926}]"
      ]
     },
     "execution_count": 2,
     "metadata": {},
     "output_type": "execute_result"
    }
   ],
   "source": [
    "with open('all.tsv') as f:\n",
    "    object_names = [{\n",
    "        'name': line[:-1].split('\\t')[0],\n",
    "        'glon': np.float64(line[:-1].split('\\t')[1]),\n",
    "        'glat': np.float64(line[:-1].split('\\t')[2])\n",
    "    } for line in f]\n",
    "object_names[:3]"
   ]
  },
  {
   "cell_type": "code",
   "execution_count": 3,
   "metadata": {},
   "outputs": [],
   "source": [
    "size = (192, 192)"
   ]
  },
  {
   "cell_type": "code",
   "execution_count": 4,
   "metadata": {},
   "outputs": [
    {
     "data": {
      "application/vnd.jupyter.widget-view+json": {
       "model_id": "fd829c2727c548eb8e3669d595a08d4c",
       "version_major": 2,
       "version_minor": 0
      },
      "text/plain": [
       "HBox(children=(IntProgress(value=0, max=1653), HTML(value='')))"
      ]
     },
     "metadata": {},
     "output_type": "display_data"
    },
    {
     "name": "stdout",
     "output_type": "stream",
     "text": [
      "\n"
     ]
    }
   ],
   "source": [
    "ROOT = '../data/resaved_HPXcvt'\n",
    "\n",
    "def perform_object(name, glon, glat):\n",
    "    hdu_100 = fits.open(f'{ROOT}/Planck100.fits')[0]\n",
    "    wcs_100 = WCS(hdu_100.header)\n",
    "    hdu_143 = fits.open(f'{ROOT}/Planck143.fits')[0]\n",
    "    wcs_143 = WCS(hdu_143.header)\n",
    "    hdu_217 = fits.open(f'{ROOT}/Planck217.fits')[0]\n",
    "    wcs_217 = WCS(hdu_217.header)\n",
    "    hdu_353 = fits.open(f'{ROOT}/Planck353.fits')[0]\n",
    "    wcs_353 = WCS(hdu_353.header)\n",
    "    hdu_545 = fits.open(f'{ROOT}/Planck545.fits')[0]\n",
    "    wcs_545 = WCS(hdu_545.header)\n",
    "\n",
    "    datasets = [\n",
    "        (hdu_100, wcs_100),\n",
    "        (hdu_143, wcs_143),\n",
    "        (hdu_217, wcs_217),\n",
    "        (hdu_353, wcs_353),\n",
    "        (hdu_545, wcs_545)\n",
    "    ]\n",
    "\n",
    "    obj = np.zeros((5, size[0], size[1]))\n",
    "    for freq_idx, (hdu, wcs) in enumerate(datasets):\n",
    "        position = SkyCoord(glon, glat, frame='galactic', unit='deg')\n",
    "        cutout = Cutout2D(hdu.data, position, size, wcs=wcs)\n",
    "        data = np.array(cutout.data)\n",
    "        if data.shape != size or np.isnan(data).any():\n",
    "            return None\n",
    "        obj[freq_idx] = data\n",
    "    return obj, name\n",
    "\n",
    "results = Parallel(n_jobs=6)(delayed(perform_object)(**object_name) for object_name in tqdm(object_names))"
   ]
  },
  {
   "cell_type": "code",
   "execution_count": 5,
   "metadata": {},
   "outputs": [
    {
     "name": "stdout",
     "output_type": "stream",
     "text": [
      "133\n"
     ]
    }
   ],
   "source": [
    "isnone = 0\n",
    "for i in results:\n",
    "    if i is None:\n",
    "        isnone += 1\n",
    "print(isnone)"
   ]
  },
  {
   "cell_type": "code",
   "execution_count": 6,
   "metadata": {},
   "outputs": [],
   "source": [
    "sz_name = np.array([x[1] for x in results if x is not None])\n",
    "sz_data = np.stack([x[0] for x in results if x is not None])"
   ]
  },
  {
   "cell_type": "code",
   "execution_count": 7,
   "metadata": {},
   "outputs": [],
   "source": [
    "np.savez_compressed('sz.npz', sz_data=sz_data, sz_names=sz_name)"
   ]
  },
  {
   "cell_type": "code",
   "execution_count": 8,
   "metadata": {},
   "outputs": [
    {
     "data": {
      "text/plain": [
       "(1520,)"
      ]
     },
     "execution_count": 8,
     "metadata": {},
     "output_type": "execute_result"
    }
   ],
   "source": [
    "sz_name.shape"
   ]
  },
  {
   "cell_type": "code",
   "execution_count": null,
   "metadata": {},
   "outputs": [],
   "source": []
  }
 ],
 "metadata": {
  "kernelspec": {
   "display_name": "Python 3",
   "language": "python",
   "name": "python3"
  },
  "language_info": {
   "codemirror_mode": {
    "name": "ipython",
    "version": 3
   },
   "file_extension": ".py",
   "mimetype": "text/x-python",
   "name": "python",
   "nbconvert_exporter": "python",
   "pygments_lexer": "ipython3",
   "version": "3.6.9"
  }
 },
 "nbformat": 4,
 "nbformat_minor": 4
}
