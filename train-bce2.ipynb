{
 "cells": [
  {
   "cell_type": "code",
   "execution_count": null,
   "metadata": {},
   "outputs": [],
   "source": [
    "import os\n",
    "from PIL import Image\n",
    "import cv2\n",
    "import numpy as np\n",
    "from sklearn.model_selection import train_test_split\n",
    "from sklearn.metrics import accuracy_score, f1_score\n",
    "from tqdm import tqdm_notebook as tqdm\n",
    "import matplotlib.pyplot as plt\n",
    "%matplotlib inline\n",
    "\n",
    "from scipy.ndimage.interpolation import rotate\n",
    "from scipy.ndimage.filters import gaussian_filter\n",
    "\n",
    "import torch\n",
    "from torch import nn\n",
    "from torch.nn import functional as F\n",
    "from torch.utils.data import Dataset, DataLoader\n",
    "from torch.optim import SGD\n",
    "from torch.optim.lr_scheduler import StepLR\n",
    "from tensorboardX import SummaryWriter\n",
    "from torchvision import transforms\n",
    "\n",
    "from resnet import resnet18\n",
    "from radam import RAdam"
   ]
  },
  {
   "cell_type": "code",
   "execution_count": null,
   "metadata": {},
   "outputs": [],
   "source": [
    "root='./rebuild_dataset'\n",
    "sz = np.load(f'{root}/sz_oleg.npz')['sz_data'].astype(np.float32)\n",
    "print('sz.shape', sz.shape)\n",
    "wo_sz = np.load(f'{root}/wo_sz_oleg.npz')['sz_data'].astype(np.float32)\n",
    "print('wo_sz.shape', wo_sz.shape)"
   ]
  },
  {
   "cell_type": "code",
   "execution_count": null,
   "metadata": {},
   "outputs": [],
   "source": [
    "def train_val_test_split(data, val_size=0.15, test_size=0.15, random_state=9):\n",
    "    assert val_size + test_size < 1\n",
    "    val_test_size = val_size + test_size\n",
    "    test_relative_size = test_size / val_test_size\n",
    "    \n",
    "    indices = range(data.shape[0])\n",
    "    train_indices, test_indices = train_test_split(indices, test_size=val_test_size, random_state=random_state)\n",
    "    val_indices, test_indices = train_test_split(test_indices, test_size=test_relative_size,\n",
    "                                                 random_state=random_state)\n",
    "    \n",
    "    return data[train_indices], data[val_indices], data[test_indices]\n",
    "  \n",
    "\n",
    "def crop_center_or_pad(img, new_side):\n",
    "    _, y, x = img.shape\n",
    "    if x > new_side:\n",
    "        startx = x//2-(new_side//2)\n",
    "        return img[:, startx:startx+new_side,startx:startx+new_side]\n",
    "    elif x < new_side:\n",
    "        padx = (new_side//2) - x//2\n",
    "        return np.pad(img, ((0,), (padx,), (padx,)), mode='constant', constant_values=-1)\n",
    "    return img\n",
    "\n",
    "#simple image scaling to (nR x nC) size\n",
    "def scale_nearest(im, nR, nC):\n",
    "    nR0 = len(im)     # source number of rows \n",
    "    nC0 = len(im[0])  # source number of columns \n",
    "    return np.array([[ im[int(nR0 * r / nR)][int(nC0 * c / nC)]  \n",
    "             for c in range(nC)] for r in range(nR)])\n"
   ]
  },
  {
   "cell_type": "code",
   "execution_count": null,
   "metadata": {},
   "outputs": [],
   "source": [
    "class Planck(Dataset):\n",
    "    frequencies = ['100', '143', '217', '353', '545']\n",
    "    \n",
    "    def __init__(self, sz, wo_sz, split='None'):\n",
    "        self.is_train = split == 'train'\n",
    "        \n",
    "        # 70/15/15\n",
    "        sz_train, sz_val, sz_test = train_val_test_split(sz)\n",
    "        wosz_train, wosz_val, wosz_test = train_val_test_split(wo_sz)\n",
    "        \n",
    "        if split == 'train':\n",
    "            self.X = np.concatenate((sz_train, wosz_train), axis=0)\n",
    "            self.y = np.array([1] * sz_train.shape[0] + [0] * wosz_train.shape[0], dtype=np.uint8)\n",
    "        elif split == 'val':\n",
    "            self.X = np.concatenate((sz_val, wosz_val), axis=0)\n",
    "            self.y = np.array([1] * sz_val.shape[0] + [0] * wosz_val.shape[0])\n",
    "        elif split == 'test':\n",
    "            self.X = np.concatenate((sz_test, wosz_test), axis=0)\n",
    "            self.y = np.array([1] * sz_test.shape[0] + [0] * wosz_test.shape[0], dtype=np.uint8)\n",
    "        else:\n",
    "            raise Exception()\n",
    "            \n",
    "#         for i in range(5):\n",
    "#             self.X[:, i] = (self.X[:, i] - np.mean(self.X[:, i])) / np.std(self.X[:, i])\n",
    "\n",
    "    def __len__(self):\n",
    "        return self.X.shape[0]\n",
    "    \n",
    "    def __getitem__(self, idx):\n",
    "        X, y = self.X[idx], self.y[idx]\n",
    "#         print(X.shape, X.size)\n",
    "\n",
    "        if self.is_train:\n",
    "            angle = np.random.randint(0, 360)\n",
    "            x_shift, y_shift = np.random.randint(-31, 32), np.random.randint(-31, 32)\n",
    "            scale = float(np.random.randint(90, 120)) / 100\n",
    "            \n",
    "            X = np.pad(X, ((0,), (32,), (32,)), mode='constant', constant_values=-1)\n",
    "            X = np.roll(X, x_shift, axis=0)\n",
    "            X = np.roll(X, y_shift, axis=1)\n",
    "            X = rotate(X, angle, axes=(1, 2), reshape=False, mode='constant', cval=-1)\n",
    "            \n",
    "#             target_dim = int(X.shape[1] * scale)\n",
    "#             X = np.array([scale_nearest(X[i], target_dim, target_dim) for i in range(5)])\n",
    "            X = crop_center_or_pad(X, 256)\n",
    "\n",
    "#         X = np.array([gaussian_filter(X[i], sigma=3) for i in range(5)])\n",
    "        \n",
    "        X = X[:, ::2, ::2]\n",
    "        X = crop_center_or_pad(X, 128)\n",
    "        return torch.from_numpy(X), y"
   ]
  },
  {
   "cell_type": "markdown",
   "metadata": {},
   "source": [
    "# Train"
   ]
  },
  {
   "cell_type": "code",
   "execution_count": null,
   "metadata": {},
   "outputs": [],
   "source": [
    "batch_size = 50\n",
    "\n",
    "train_dataset, val_dataset = Planck(sz, wo_sz, split='train'), Planck(sz, wo_sz, split='val')\n",
    "print(len(train_dataset))\n",
    "print(len(val_dataset))\n",
    "train_dataloader = DataLoader(train_dataset, batch_size=batch_size, shuffle=True, drop_last=True, num_workers=8)\n",
    "val_dataloader = DataLoader(val_dataset, batch_size=batch_size, shuffle=False, drop_last=False)"
   ]
  },
  {
   "cell_type": "code",
   "execution_count": null,
   "metadata": {},
   "outputs": [],
   "source": [
    "img_effect_1, answer_sz_1 = train_dataset.__getitem__(1)\n",
    "img_effect_2, answer_sz_2 = train_dataset.__getitem__(5)\n",
    "img_no_effect_1, answer_wo_sz_1 = train_dataset.__getitem__(1201)\n",
    "img_no_effect_2, answer_wo_sz_2 = train_dataset.__getitem__(1205)\n",
    "\n",
    "assert(answer_sz_1 and answer_sz_2 and not answer_wo_sz_1 and not answer_wo_sz_2)\n",
    "\n",
    "fig, ax = plt.subplots(4, 5, figsize=(15, 10))\n",
    "for i in range(5):\n",
    "    ax[0][i].imshow(img_effect_1[i])\n",
    "    ax[1][i].imshow(img_effect_2[i])\n",
    "    ax[2][i].imshow(img_no_effect_1[i])\n",
    "    ax[3][i].imshow(img_no_effect_2[i])"
   ]
  },
  {
   "cell_type": "code",
   "execution_count": null,
   "metadata": {},
   "outputs": [],
   "source": [
    "def accuracy_sc(y_pred, y_true, threshold=0.5):\n",
    "    return accuracy_score((y_pred.detach().cpu().numpy() > threshold).astype(np.uint8), y_true.cpu().numpy())\n",
    "\n",
    "def f1_sc(y_pred, y_true, threshold=0.5):\n",
    "    return f1_score((y_pred.detach().cpu().numpy() > threshold).astype(np.uint8), y_true.cpu().numpy())"
   ]
  },
  {
   "cell_type": "code",
   "execution_count": null,
   "metadata": {},
   "outputs": [],
   "source": [
    "device = 'cuda:0'\n",
    "name = 'v2_128_oleg_14'\n",
    "n_epochs = 250\n",
    "\n",
    "# try:\n",
    "os.mkdir(f'./checkpoints/{name}')\n",
    "# except Exception as e:\n",
    "#     print(e)"
   ]
  },
  {
   "cell_type": "code",
   "execution_count": null,
   "metadata": {},
   "outputs": [],
   "source": [
    "model = resnet18(num_classes=1).to(device)\n",
    "# optimizer = SGD(model.parameters(), lr=0.01, momentum=0.9)\n",
    "optimizer = RAdam(model.parameters(), lr=0.0003)\n",
    "scheduler = StepLR(optimizer, step_size=90, gamma=0.2)\n",
    "criterion = nn.BCEWithLogitsLoss()"
   ]
  },
  {
   "cell_type": "code",
   "execution_count": null,
   "metadata": {
    "scrolled": false
   },
   "outputs": [],
   "source": [
    "writer = SummaryWriter(logdir=f'./logs/{name}')\n",
    "\n",
    "best_val_loss = np.inf\n",
    "for epoch in tqdm(range(n_epochs)):\n",
    "    model.train()\n",
    "    for idx, batch in enumerate(train_dataloader):\n",
    "        X, y_true = batch\n",
    "        X, y_true = X.to(device), y_true.unsqueeze(1).float().to(device)\n",
    "\n",
    "        optimizer.zero_grad()\n",
    "\n",
    "        y_pred = model(X)\n",
    "\n",
    "        loss = criterion(y_pred, y_true)\n",
    "        loss.backward()\n",
    "\n",
    "        optimizer.step()\n",
    "        \n",
    "        loss = loss.detach()\n",
    "        acc = accuracy_sc(y_pred, y_true)\n",
    "        f1 = f1_sc(y_pred, y_true)\n",
    "        \n",
    "        writer.add_scalar('train/loss', loss, epoch * len(train_dataloader) + idx)\n",
    "        writer.add_scalar('train/acc', acc, epoch * len(train_dataloader) + idx)\n",
    "        writer.add_scalar('train/f1', f1, epoch * len(train_dataloader) + idx)\n",
    "        writer.file_writer.flush()\n",
    "    \n",
    "    with torch.no_grad():\n",
    "        model.eval()\n",
    "        val_loss, val_acc, val_f1, steps = 0, 0, 0, 0\n",
    "        for idx, batch in enumerate(val_dataloader):\n",
    "            X, y_true = batch\n",
    "            X, y_true = X.to(device), y_true.unsqueeze(1).float().to(device)\n",
    "\n",
    "            y_pred = model(X)\n",
    "\n",
    "            loss = criterion(y_pred, y_true)\n",
    "\n",
    "            val_loss += loss.detach()\n",
    "            val_acc += accuracy_sc(y_pred, y_true)\n",
    "            val_f1 += f1_sc(y_pred, y_true)\n",
    "            steps += 1\n",
    "            \n",
    "        val_loss /= steps\n",
    "        val_acc /= steps\n",
    "        val_f1 /= steps\n",
    "        \n",
    "        writer.add_scalar('val/loss', val_loss, epoch)\n",
    "        writer.add_scalar('val/acc', val_acc, epoch)\n",
    "        writer.add_scalar('val/f1', val_f1, epoch)\n",
    "        writer.file_writer.flush()\n",
    "        \n",
    "    scheduler.step()\n",
    "    writer.add_scalar('train/lr', scheduler.get_lr(), epoch)\n",
    "        \n",
    "    if epoch % 10 == 0:\n",
    "        torch.save(model.state_dict(), f'./checkpoints/{name}/net_{epoch}.pt')\n",
    "    if val_loss < best_val_loss:\n",
    "        torch.save(model.state_dict(), f'./checkpoints/{name}/net_best.pt')\n",
    "        best_val_loss = val_loss\n",
    "    torch.save(model.state_dict(), f'./checkpoints/{name}/net_last.pt')"
   ]
  },
  {
   "cell_type": "markdown",
   "metadata": {},
   "source": [
    "# Find threshold of best model"
   ]
  },
  {
   "cell_type": "code",
   "execution_count": 15,
   "metadata": {},
   "outputs": [],
   "source": [
    "name = 'v2_128_oleg_14'"
   ]
  },
  {
   "cell_type": "code",
   "execution_count": 16,
   "metadata": {},
   "outputs": [],
   "source": [
    "best_checkpoint_name = f'./checkpoints/{name}/net_best.pt'\n",
    "model.load_state_dict(torch.load(best_checkpoint_name))\n",
    "model.eval();"
   ]
  },
  {
   "cell_type": "code",
   "execution_count": 20,
   "metadata": {
    "scrolled": true
   },
   "outputs": [
    {
     "name": "stdout",
     "output_type": "stream",
     "text": [
      "0.00, 0.429\n",
      "0.01, 0.466\n",
      "0.02, 0.511\n",
      "0.03, 0.537\n",
      "0.04, 0.571\n",
      "0.05, 0.591\n",
      "0.06, 0.609\n",
      "0.07, 0.617\n",
      "0.08, 0.634\n",
      "0.09, 0.640\n",
      "0.10, 0.649\n",
      "0.11, 0.649\n",
      "0.12, 0.660\n",
      "0.13, 0.666\n",
      "0.14, 0.674\n",
      "0.15, 0.671\n",
      "0.16, 0.674\n",
      "0.17, 0.677\n",
      "0.18, 0.677\n",
      "0.19, 0.680\n",
      "0.20, 0.683\n",
      "0.21, 0.686\n",
      "0.22, 0.686\n",
      "0.23, 0.689\n",
      "0.24, 0.686\n",
      "0.25, 0.686\n",
      "0.26, 0.686\n",
      "0.27, 0.686\n",
      "0.28, 0.683\n",
      "0.29, 0.683\n",
      "0.30, 0.689\n",
      "0.31, 0.694\n",
      "0.32, 0.697\n",
      "0.33, 0.703\n",
      "0.34, 0.706\n",
      "0.35, 0.709\n",
      "0.36, 0.711\n",
      "0.37, 0.714\n",
      "0.38, 0.860\n",
      "0.39, 0.866\n",
      "0.40, 0.866\n",
      "0.41, 0.863\n",
      "0.42, 0.863\n",
      "0.43, 0.863\n",
      "0.44, 0.863\n",
      "0.45, 0.863\n",
      "0.46, 0.863\n",
      "0.47, 0.863\n",
      "0.48, 0.863\n",
      "0.49, 0.863\n",
      "0.50, 0.866\n",
      "0.51, 0.866\n",
      "0.52, 0.866\n",
      "0.53, 0.866\n",
      "0.54, 0.869\n",
      "0.55, 0.869\n",
      "0.56, 0.863\n",
      "0.57, 0.866\n",
      "0.58, 0.866\n",
      "0.59, 0.863\n",
      "0.60, 0.863\n",
      "0.61, 0.863\n",
      "0.62, 0.863\n",
      "0.63, 0.860\n",
      "0.64, 0.857\n",
      "0.65, 0.854\n",
      "0.66, 0.860\n",
      "0.67, 0.857\n",
      "0.68, 0.857\n",
      "0.69, 0.849\n",
      "0.70, 0.846\n",
      "0.71, 0.846\n",
      "0.72, 0.846\n",
      "0.73, 0.851\n",
      "0.74, 0.851\n",
      "0.75, 0.851\n",
      "0.76, 0.849\n",
      "0.77, 0.840\n",
      "0.78, 0.840\n",
      "0.79, 0.840\n",
      "0.80, 0.846\n",
      "0.81, 0.846\n",
      "0.82, 0.843\n",
      "0.83, 0.840\n",
      "0.84, 0.840\n",
      "0.85, 0.840\n",
      "0.86, 0.843\n",
      "0.87, 0.840\n",
      "0.88, 0.840\n",
      "0.89, 0.837\n",
      "0.90, 0.840\n",
      "0.91, 0.834\n",
      "0.92, 0.837\n",
      "0.93, 0.834\n",
      "0.94, 0.823\n",
      "0.95, 0.811\n",
      "0.96, 0.803\n",
      "0.97, 0.794\n",
      "0.98, 0.780\n",
      "0.99, 0.743\n",
      "1.00, 0.571\n",
      "best 0.54, acc: 0.869\n"
     ]
    }
   ],
   "source": [
    "best_t, best_acc = 0, 0\n",
    "all_t, all_acc = [], []\n",
    "for t in np.linspace(0, 1, 101):\n",
    "    steps, test_acc = 0, 0.\n",
    "    for idx, batch in enumerate(val_dataloader):\n",
    "        X, y_true = batch\n",
    "        X, y_true = X.to(device), y_true.unsqueeze(1).float().to(device)\n",
    "        y_pred = torch.sigmoid(model(X))\n",
    "\n",
    "        steps += 1\n",
    "        test_acc += accuracy_sc(y_pred, y_true, threshold=t)\n",
    "    test_acc /= steps\n",
    "    print(f'{t:.2f}, {test_acc:.3f}')\n",
    "    all_t.append(t)\n",
    "    all_acc.append(test_acc)\n",
    "    if test_acc > best_acc:\n",
    "        best_t, best_acc = t, test_acc\n",
    "print(f'best {best_t:.2f}, acc: {best_acc:.3f}')"
   ]
  },
  {
   "cell_type": "code",
   "execution_count": 21,
   "metadata": {},
   "outputs": [
    {
     "data": {
      "text/plain": [
       "[<matplotlib.lines.Line2D at 0x7fcaba89ab38>]"
      ]
     },
     "execution_count": 21,
     "metadata": {},
     "output_type": "execute_result"
    },
    {
     "data": {
      "image/png": "[encoded data removed]",
      "text/plain": [
       "<Figure size 432x288 with 1 Axes>"
      ]
     },
     "metadata": {
      "needs_background": "light"
     },
     "output_type": "display_data"
    }
   ],
   "source": [
    "plt.plot(all_t, all_acc)"
   ]
  },
  {
   "cell_type": "code",
   "execution_count": 25,
   "metadata": {},
   "outputs": [],
   "source": [
    "best_t = 0.4"
   ]
  },
  {
   "cell_type": "markdown",
   "metadata": {},
   "source": [
    "# Apply on test with best theshold"
   ]
  },
  {
   "cell_type": "code",
   "execution_count": 26,
   "metadata": {},
   "outputs": [],
   "source": [
    "test_dataset = Planck(sz, wo_sz, split='test')\n",
    "test_dataloader = DataLoader(test_dataset, batch_size=1, shuffle=False)"
   ]
  },
  {
   "cell_type": "code",
   "execution_count": 27,
   "metadata": {},
   "outputs": [
    {
     "name": "stdout",
     "output_type": "stream",
     "text": [
      "0.50, acc: 0.805\n",
      "0.40, acc: 0.805\n"
     ]
    }
   ],
   "source": [
    "for t in [0.5, best_t]:\n",
    "    steps, test_acc = 0, 0\n",
    "    for idx, batch in enumerate(test_dataloader):\n",
    "        X, y_true = batch\n",
    "        X, y_true = X.to(device), y_true.unsqueeze(1).float().to(device)\n",
    "        y_pred = model(X)\n",
    "\n",
    "        steps += 1\n",
    "        test_acc += accuracy_sc(y_pred, y_true, threshold=best_t)\n",
    "    test_acc /= steps\n",
    "\n",
    "    print(f'{t:.2f}, acc: {test_acc:.3f}')"
   ]
  },
  {
   "cell_type": "markdown",
   "metadata": {},
   "source": [
    "# Apply (with load chckpoint)"
   ]
  },
  {
   "cell_type": "code",
   "execution_count": 28,
   "metadata": {},
   "outputs": [],
   "source": [
    "name = 'v2_128_oleg_14'\n",
    "checkpoint_name = f'./checkpoints/{name}/net_best.pt'  # './checkpoints/try_bce6/net_best.pt'\n",
    "threshold = 0.4\n",
    "model.load_state_dict(torch.load(checkpoint_name, map_location=torch.device('cpu')))\n",
    "model.eval();"
   ]
  },
  {
   "cell_type": "code",
   "execution_count": 29,
   "metadata": {},
   "outputs": [
    {
     "name": "stdout",
     "output_type": "stream",
     "text": [
      "acc: 0.801\n",
      "recall: 0.813\n"
     ]
    }
   ],
   "source": [
    "steps, test_acc = 0, 0\n",
    "recall_steps, test_recall = 0, 0\n",
    "for idx, batch in enumerate(test_dataloader):\n",
    "    X, y_true = batch\n",
    "    X, y_true = X.to(device), y_true.unsqueeze(1).float().to(device)\n",
    "    y_pred = torch.sigmoid(model(X))\n",
    "\n",
    "    steps += 1\n",
    "    test_acc += (y_pred.item() > threshold) == y_true.item()\n",
    "    if y_true.item() == 1:\n",
    "        recall_steps += 1\n",
    "        test_recall += (y_pred.item() > threshold) == y_true.item()\n",
    "test_acc /= steps\n",
    "test_recall /= recall_steps\n",
    "\n",
    "print(f'acc: {test_acc:.3f}')\n",
    "print(f'recall: {test_recall:.3f}')"
   ]
  },
  {
   "cell_type": "code",
   "execution_count": null,
   "metadata": {},
   "outputs": [],
   "source": [
    "test_recall"
   ]
  },
  {
   "cell_type": "code",
   "execution_count": null,
   "metadata": {},
   "outputs": [],
   "source": [
    "torch.sigmoid(y_pred.detach()).item()"
   ]
  },
  {
   "cell_type": "code",
   "execution_count": null,
   "metadata": {},
   "outputs": [],
   "source": [
    "y_pred.item()"
   ]
  },
  {
   "cell_type": "code",
   "execution_count": null,
   "metadata": {},
   "outputs": [],
   "source": []
  }
 ],
 "metadata": {
  "kernelspec": {
   "display_name": "Python 3",
   "language": "python",
   "name": "python3"
  },
  "language_info": {
   "codemirror_mode": {
    "name": "ipython",
    "version": 3
   },
   "file_extension": ".py",
   "mimetype": "text/x-python",
   "name": "python",
   "nbconvert_exporter": "python",
   "pygments_lexer": "ipython3",
   "version": "3.6.9"
  }
 },
 "nbformat": 4,
 "nbformat_minor": 2
}
